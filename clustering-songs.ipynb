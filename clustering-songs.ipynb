{
 "cells": [
  {
   "cell_type": "markdown",
   "id": "5570e277-2685-45d7-8854-d81d03a6d879",
   "metadata": {},
   "source": [
    "# Imports"
   ]
  },
  {
   "cell_type": "code",
   "execution_count": 1,
   "id": "345aa3e0-0109-496a-9202-b7307cdee80d",
   "metadata": {},
   "outputs": [],
   "source": [
    "import pandas as pd\n",
    "import numpy as np\n",
    "\n",
    "from time import sleep\n",
    "from random import randint\n",
    "\n",
    "import spotipy\n",
    "from spotipy.oauth2 import SpotifyClientCredentials"
   ]
  },
  {
   "cell_type": "code",
   "execution_count": 2,
   "id": "7c111b29-a60d-4b85-8509-034381498996",
   "metadata": {},
   "outputs": [],
   "source": [
    "import sys\n",
    "sys.path.insert(1, '../Src/Lib')\n",
    "from config import *"
   ]
  },
  {
   "cell_type": "code",
   "execution_count": 3,
   "id": "2b17ccb3-2a63-4164-a7f1-7939f89a4085",
   "metadata": {},
   "outputs": [],
   "source": [
    "from sklearn.preprocessing import PowerTransformer, StandardScaler\n",
    "from sklearn.metrics import silhouette_score\n",
    "from sklearn.cluster import KMeans\n",
    "from sklearn.cluster import DBSCAN\n",
    "from sklearn.mixture import GaussianMixture\n",
    "from sklearn.cluster import AgglomerativeClustering\n",
    "\n",
    "from scipy.spatial import distance_matrix\n",
    "import matplotlib.pyplot as plt\n",
    "import seaborn as sns\n",
    "%matplotlib inline"
   ]
  },
  {
   "cell_type": "code",
   "execution_count": 4,
   "id": "c195963e-1b49-4c25-ab65-18341830f31e",
   "metadata": {},
   "outputs": [],
   "source": [
    "import pickle\n",
    "import yaml"
   ]
  },
  {
   "cell_type": "markdown",
   "id": "71cd60dc-5125-4999-aedb-14e0dfb22b16",
   "metadata": {},
   "source": [
    "# Spotify API"
   ]
  },
  {
   "cell_type": "markdown",
   "id": "3daeac44-006e-4377-993a-dcfed37856ba",
   "metadata": {},
   "source": [
    "## Token"
   ]
  },
  {
   "cell_type": "code",
   "execution_count": 5,
   "id": "c5eb88e4-694c-4bb5-ab83-2ccf7b13d6af",
   "metadata": {},
   "outputs": [],
   "source": [
    "sp = spotipy.Spotify(auth_manager=SpotifyClientCredentials(client_id= Client_ID, client_secret= Client_Secret))"
   ]
  },
  {
   "cell_type": "markdown",
   "id": "e87048ae-40d1-4a74-b0ab-00d62d58d5c1",
   "metadata": {},
   "source": [
    "## Not Hot"
   ]
  },
  {
   "cell_type": "markdown",
   "id": "2938ccbe-702e-4fae-a63a-1a53ada8a071",
   "metadata": {},
   "source": [
    "### Request"
   ]
  },
  {
   "cell_type": "markdown",
   "id": "96ac2dff-e2b3-429e-8834-6d56a6e7aa83",
   "metadata": {
    "tags": []
   },
   "source": [
    "#### Function to get the data\n",
    "\n",
    "There seems to be a problem with some items that are not songs and make the function stop, we had to call it several times setting the offset 1 item after the stop."
   ]
  },
  {
   "cell_type": "code",
   "execution_count": 6,
   "id": "d2f06dbc-6942-4f8d-93f1-7c6a7b31efdc",
   "metadata": {},
   "outputs": [],
   "source": [
    "def analyze_playlist(creator, playlist_id, pages=5, start=0):\n",
    "    \n",
    "    playlist_columns = [\"Song\", \"Artist\", \"ID\", \"Link\", \"danceability\", \"energy\", \"key\", \"loudness\", \"mode\", \"speechiness\", \"instrumentalness\", \"liveness\", \"valence\", \"tempo\", \"duration_ms\", \"time_signature\"]\n",
    "    \n",
    "    playlist_df = pd.DataFrame(columns = playlist_columns)\n",
    "    \n",
    "    playlist = sp.user_playlist_tracks(creator, playlist_id, offset=start)\n",
    "    nap = randint(1,2)\n",
    "    for i in range(pages):\n",
    "        print(\"Page\",i+1)\n",
    "        try:\n",
    "            tracks = playlist[\"items\"]\n",
    "            for track in tracks:\n",
    "                playlist_features = {}\n",
    "                playlist_features[\"Song\"] = track[\"track\"][\"name\"]\n",
    "                playlist_features[\"Artist\"] = track[\"track\"][\"album\"][\"artists\"][0][\"name\"]\n",
    "                playlist_features[\"ID\"] = track[\"track\"][\"id\"]\n",
    "                playlist_features[\"Link\"] = track[\"track\"][\"external_urls\"][\"spotify\"]\n",
    "        \n",
    "                audio_features = sp.audio_features(playlist_features[\"ID\"])[0]\n",
    "                for feature in playlist_columns[4:]:\n",
    "                    playlist_features[feature] = audio_features[feature]\n",
    "        \n",
    "                track_df = pd.DataFrame(playlist_features, index = [0])\n",
    "                playlist_df = pd.concat([playlist_df, track_df], ignore_index = True)\n",
    "            playlist = sp.next(playlist)\n",
    "            \n",
    "        except:\n",
    "            continue\n",
    "        \n",
    "        print(\"Sleeping for\",nap,\"seconds\")\n",
    "        sleep(nap)\n",
    "    \n",
    "    playlist_df.columns = [\"Song\", \"Artist\", \"ID\", \"Link\", \"Danceability\", \"Energy\", \"Key\", \"Loudness\", \"Mode\", \"Speechiness\", \"Instrumentalness\", \"Liveness\", \"Valence\", \"Tempo\", \"Duration\", \"Time Signature\"]\n",
    "        \n",
    "    return playlist_df"
   ]
  },
  {
   "cell_type": "code",
   "execution_count": 7,
   "id": "a3143681-da46-41c5-b3cf-8654fd8dd3cd",
   "metadata": {
    "tags": []
   },
   "outputs": [
    {
     "name": "stdout",
     "output_type": "stream",
     "text": [
      "Page 1\n",
      "Sleeping for 1 seconds\n",
      "Page 2\n",
      "Sleeping for 1 seconds\n",
      "Page 3\n",
      "Sleeping for 1 seconds\n",
      "Page 4\n",
      "Sleeping for 1 seconds\n",
      "Page 5\n"
     ]
    },
    {
     "data": {
      "text/plain": [
       "467"
      ]
     },
     "execution_count": 7,
     "metadata": {},
     "output_type": "execute_result"
    }
   ],
   "source": [
    "not_hot_0 = analyze_playlist(\"acclaimed music\", \"1G8IpkZKobrIlXcVPoSIuf\", 5)\n",
    "not_hot_0[\"ID\"].nunique()"
   ]
  },
  {
   "cell_type": "code",
   "execution_count": 8,
   "id": "2cc77339-3ac6-4811-8d7f-8a7f273cecc9",
   "metadata": {},
   "outputs": [
    {
     "data": {
      "text/plain": [
       "468"
      ]
     },
     "execution_count": 8,
     "metadata": {},
     "output_type": "execute_result"
    }
   ],
   "source": [
    "skip1 = not_hot_0[\"ID\"].nunique() + 1\n",
    "skip1"
   ]
  },
  {
   "cell_type": "code",
   "execution_count": 9,
   "id": "5dbb513d-cb26-4c64-9f45-877640015772",
   "metadata": {},
   "outputs": [
    {
     "name": "stdout",
     "output_type": "stream",
     "text": [
      "Page 1\n",
      "Sleeping for 1 seconds\n",
      "Page 2\n",
      "Sleeping for 1 seconds\n",
      "Page 3\n",
      "Sleeping for 1 seconds\n",
      "Page 4\n",
      "Sleeping for 1 seconds\n",
      "Page 5\n",
      "Sleeping for 1 seconds\n",
      "Page 6\n",
      "Sleeping for 1 seconds\n",
      "Page 7\n",
      "Sleeping for 1 seconds\n",
      "Page 8\n",
      "Sleeping for 1 seconds\n",
      "Page 9\n",
      "Sleeping for 1 seconds\n",
      "Page 10\n",
      "Sleeping for 1 seconds\n"
     ]
    },
    {
     "data": {
      "text/plain": [
       "1000"
      ]
     },
     "execution_count": 9,
     "metadata": {},
     "output_type": "execute_result"
    }
   ],
   "source": [
    "not_hot_1 = analyze_playlist(\"acclaimed music\", \"1G8IpkZKobrIlXcVPoSIuf\", 10, skip1)\n",
    "not_hot_1[\"ID\"].nunique()"
   ]
  },
  {
   "cell_type": "code",
   "execution_count": 10,
   "id": "d2ecea45-6861-4e2b-a73b-1008222d311c",
   "metadata": {},
   "outputs": [
    {
     "data": {
      "text/plain": [
       "1469"
      ]
     },
     "execution_count": 10,
     "metadata": {},
     "output_type": "execute_result"
    }
   ],
   "source": [
    "skip2 = skip1 + not_hot_1[\"ID\"].nunique() + 1\n",
    "skip2"
   ]
  },
  {
   "cell_type": "code",
   "execution_count": 11,
   "id": "634c5609-0355-47a1-b3f5-f88d29a046fe",
   "metadata": {},
   "outputs": [
    {
     "name": "stdout",
     "output_type": "stream",
     "text": [
      "Page 1\n",
      "Sleeping for 2 seconds\n",
      "Page 2\n",
      "Sleeping for 2 seconds\n",
      "Page 3\n",
      "Sleeping for 2 seconds\n",
      "Page 4\n",
      "Sleeping for 2 seconds\n",
      "Page 5\n",
      "Sleeping for 2 seconds\n",
      "Page 6\n",
      "Sleeping for 2 seconds\n",
      "Page 7\n",
      "Sleeping for 2 seconds\n",
      "Page 8\n",
      "Sleeping for 2 seconds\n",
      "Page 9\n",
      "Sleeping for 2 seconds\n",
      "Page 10\n",
      "Sleeping for 2 seconds\n"
     ]
    },
    {
     "data": {
      "text/plain": [
       "1000"
      ]
     },
     "execution_count": 11,
     "metadata": {},
     "output_type": "execute_result"
    }
   ],
   "source": [
    "not_hot_2 = analyze_playlist(\"acclaimed music\", \"1G8IpkZKobrIlXcVPoSIuf\", 10, skip2)\n",
    "not_hot_2[\"ID\"].nunique()"
   ]
  },
  {
   "cell_type": "code",
   "execution_count": 12,
   "id": "a79ffa6a-35b1-43fc-9225-c05f2dfb09a8",
   "metadata": {},
   "outputs": [
    {
     "data": {
      "text/plain": [
       "2470"
      ]
     },
     "execution_count": 12,
     "metadata": {},
     "output_type": "execute_result"
    }
   ],
   "source": [
    "skip3 = skip2 + not_hot_2[\"ID\"].nunique() + 1\n",
    "skip3"
   ]
  },
  {
   "cell_type": "code",
   "execution_count": 13,
   "id": "571fb5f5-dee4-4c75-a6e9-fa291651e163",
   "metadata": {},
   "outputs": [
    {
     "name": "stdout",
     "output_type": "stream",
     "text": [
      "Page 1\n",
      "Sleeping for 2 seconds\n",
      "Page 2\n"
     ]
    },
    {
     "data": {
      "text/plain": [
       "188"
      ]
     },
     "execution_count": 13,
     "metadata": {},
     "output_type": "execute_result"
    }
   ],
   "source": [
    "not_hot_3 = analyze_playlist(\"acclaimed music\", \"1G8IpkZKobrIlXcVPoSIuf\", 2, skip3)\n",
    "not_hot_3[\"ID\"].nunique()"
   ]
  },
  {
   "cell_type": "code",
   "execution_count": 14,
   "id": "321f2cba-d3e9-4c46-81d0-f12e836402d5",
   "metadata": {},
   "outputs": [
    {
     "data": {
      "text/plain": [
       "2659"
      ]
     },
     "execution_count": 14,
     "metadata": {},
     "output_type": "execute_result"
    }
   ],
   "source": [
    "skip4 = skip3 + not_hot_3[\"ID\"].nunique() + 1\n",
    "skip4"
   ]
  },
  {
   "cell_type": "code",
   "execution_count": 15,
   "id": "b669d553-3a62-40f0-b501-011e45c5d127",
   "metadata": {},
   "outputs": [
    {
     "name": "stdout",
     "output_type": "stream",
     "text": [
      "Page 1\n"
     ]
    },
    {
     "data": {
      "text/plain": [
       "12"
      ]
     },
     "execution_count": 15,
     "metadata": {},
     "output_type": "execute_result"
    }
   ],
   "source": [
    "not_hot_4 = analyze_playlist(\"acclaimed music\", \"1G8IpkZKobrIlXcVPoSIuf\", 1, skip4)\n",
    "not_hot_4[\"ID\"].nunique()"
   ]
  },
  {
   "cell_type": "code",
   "execution_count": 16,
   "id": "4251b6e1-8f39-42e6-8589-dff243e0d640",
   "metadata": {},
   "outputs": [
    {
     "data": {
      "text/plain": [
       "2672"
      ]
     },
     "execution_count": 16,
     "metadata": {},
     "output_type": "execute_result"
    }
   ],
   "source": [
    "skip5 = skip4 + not_hot_4[\"ID\"].nunique() + 1\n",
    "skip5"
   ]
  },
  {
   "cell_type": "code",
   "execution_count": 17,
   "id": "c63fa34a-09bd-412a-9b2c-bf4f7a9381b6",
   "metadata": {},
   "outputs": [
    {
     "name": "stdout",
     "output_type": "stream",
     "text": [
      "Page 1\n",
      "Sleeping for 2 seconds\n",
      "Page 2\n",
      "Sleeping for 2 seconds\n",
      "Page 3\n",
      "Sleeping for 2 seconds\n",
      "Page 4\n"
     ]
    },
    {
     "data": {
      "text/plain": [
       "307"
      ]
     },
     "execution_count": 17,
     "metadata": {},
     "output_type": "execute_result"
    }
   ],
   "source": [
    "not_hot_5 = analyze_playlist(\"acclaimed music\", \"1G8IpkZKobrIlXcVPoSIuf\", 4, skip5)\n",
    "not_hot_5[\"ID\"].nunique()"
   ]
  },
  {
   "cell_type": "code",
   "execution_count": 18,
   "id": "e3532920-8aaf-4623-8275-125a83b01886",
   "metadata": {},
   "outputs": [
    {
     "data": {
      "text/plain": [
       "2980"
      ]
     },
     "execution_count": 18,
     "metadata": {},
     "output_type": "execute_result"
    }
   ],
   "source": [
    "skip6 = skip5 + not_hot_5[\"ID\"].nunique() + 1\n",
    "skip6"
   ]
  },
  {
   "cell_type": "code",
   "execution_count": 19,
   "id": "cda75c7f-c697-4cc7-b992-de7855d27961",
   "metadata": {},
   "outputs": [
    {
     "name": "stdout",
     "output_type": "stream",
     "text": [
      "Page 1\n",
      "Sleeping for 2 seconds\n",
      "Page 2\n",
      "Sleeping for 2 seconds\n",
      "Page 3\n",
      "Sleeping for 2 seconds\n",
      "Page 4\n",
      "Sleeping for 2 seconds\n",
      "Page 5\n"
     ]
    },
    {
     "data": {
      "text/plain": [
       "407"
      ]
     },
     "execution_count": 19,
     "metadata": {},
     "output_type": "execute_result"
    }
   ],
   "source": [
    "not_hot_6 = analyze_playlist(\"acclaimed music\", \"1G8IpkZKobrIlXcVPoSIuf\", 5, skip6)\n",
    "not_hot_6[\"ID\"].nunique()"
   ]
  },
  {
   "cell_type": "code",
   "execution_count": 20,
   "id": "c1f6de42-3ce3-4558-b6c8-defbb47fd22e",
   "metadata": {},
   "outputs": [
    {
     "data": {
      "text/plain": [
       "3388"
      ]
     },
     "execution_count": 20,
     "metadata": {},
     "output_type": "execute_result"
    }
   ],
   "source": [
    "skip7 = skip6 + not_hot_6[\"ID\"].nunique() + 1\n",
    "skip7"
   ]
  },
  {
   "cell_type": "code",
   "execution_count": 21,
   "id": "f90fd1f2-8686-4c7f-923c-471f20dbc9cc",
   "metadata": {},
   "outputs": [
    {
     "name": "stdout",
     "output_type": "stream",
     "text": [
      "Page 1\n"
     ]
    },
    {
     "data": {
      "text/plain": [
       "82"
      ]
     },
     "execution_count": 21,
     "metadata": {},
     "output_type": "execute_result"
    }
   ],
   "source": [
    "not_hot_7 = analyze_playlist(\"acclaimed music\", \"1G8IpkZKobrIlXcVPoSIuf\", 1, skip7)\n",
    "not_hot_7[\"ID\"].nunique()"
   ]
  },
  {
   "cell_type": "code",
   "execution_count": 22,
   "id": "0fb9c21b-bf92-4da0-a3a6-b447f20abadb",
   "metadata": {},
   "outputs": [
    {
     "data": {
      "text/plain": [
       "3471"
      ]
     },
     "execution_count": 22,
     "metadata": {},
     "output_type": "execute_result"
    }
   ],
   "source": [
    "skip8 = skip7 + not_hot_7[\"ID\"].nunique() + 1\n",
    "skip8"
   ]
  },
  {
   "cell_type": "code",
   "execution_count": 23,
   "id": "eb34fbd0-bd7c-4bdd-857c-c08e5ea8180a",
   "metadata": {},
   "outputs": [
    {
     "name": "stdout",
     "output_type": "stream",
     "text": [
      "Page 1\n",
      "Sleeping for 1 seconds\n",
      "Page 2\n"
     ]
    },
    {
     "data": {
      "text/plain": [
       "169"
      ]
     },
     "execution_count": 23,
     "metadata": {},
     "output_type": "execute_result"
    }
   ],
   "source": [
    "not_hot_8 = analyze_playlist(\"acclaimed music\", \"1G8IpkZKobrIlXcVPoSIuf\", 2, skip8)\n",
    "not_hot_8[\"ID\"].nunique()"
   ]
  },
  {
   "cell_type": "code",
   "execution_count": 24,
   "id": "2d449d3a-0c5c-4128-b355-bcfc795f0d95",
   "metadata": {},
   "outputs": [
    {
     "data": {
      "text/plain": [
       "3641"
      ]
     },
     "execution_count": 24,
     "metadata": {},
     "output_type": "execute_result"
    }
   ],
   "source": [
    "skip9 = skip8 + not_hot_8[\"ID\"].nunique() + 1\n",
    "skip9"
   ]
  },
  {
   "cell_type": "code",
   "execution_count": 25,
   "id": "c79c7ef3-6f92-48d5-9e67-e99225dc1e25",
   "metadata": {},
   "outputs": [
    {
     "name": "stdout",
     "output_type": "stream",
     "text": [
      "Page 1\n"
     ]
    },
    {
     "data": {
      "text/plain": [
       "43"
      ]
     },
     "execution_count": 25,
     "metadata": {},
     "output_type": "execute_result"
    }
   ],
   "source": [
    "not_hot_9 = analyze_playlist(\"acclaimed music\", \"1G8IpkZKobrIlXcVPoSIuf\", 1, skip9)\n",
    "not_hot_9[\"ID\"].nunique()"
   ]
  },
  {
   "cell_type": "markdown",
   "id": "6fe46228-c2db-4834-abc3-53393f7fa878",
   "metadata": {},
   "source": [
    "### Concat and save"
   ]
  },
  {
   "cell_type": "code",
   "execution_count": 26,
   "id": "708013cc-7848-4164-a455-3187e63c78bc",
   "metadata": {},
   "outputs": [
    {
     "data": {
      "text/html": [
       "<div>\n",
       "<style scoped>\n",
       "    .dataframe tbody tr th:only-of-type {\n",
       "        vertical-align: middle;\n",
       "    }\n",
       "\n",
       "    .dataframe tbody tr th {\n",
       "        vertical-align: top;\n",
       "    }\n",
       "\n",
       "    .dataframe thead th {\n",
       "        text-align: right;\n",
       "    }\n",
       "</style>\n",
       "<table border=\"1\" class=\"dataframe\">\n",
       "  <thead>\n",
       "    <tr style=\"text-align: right;\">\n",
       "      <th></th>\n",
       "      <th>Song</th>\n",
       "      <th>Artist</th>\n",
       "      <th>ID</th>\n",
       "      <th>Link</th>\n",
       "      <th>Danceability</th>\n",
       "      <th>Energy</th>\n",
       "      <th>Key</th>\n",
       "      <th>Loudness</th>\n",
       "      <th>Mode</th>\n",
       "      <th>Speechiness</th>\n",
       "      <th>Instrumentalness</th>\n",
       "      <th>Liveness</th>\n",
       "      <th>Valence</th>\n",
       "      <th>Tempo</th>\n",
       "      <th>Duration</th>\n",
       "      <th>Time Signature</th>\n",
       "    </tr>\n",
       "  </thead>\n",
       "  <tbody>\n",
       "    <tr>\n",
       "      <th>0</th>\n",
       "      <td>Like a Rolling Stone</td>\n",
       "      <td>Bob Dylan</td>\n",
       "      <td>3AhXZa8sUQht0UEdBJgpGc</td>\n",
       "      <td>https://open.spotify.com/track/3AhXZa8sUQht0UE...</td>\n",
       "      <td>0.482</td>\n",
       "      <td>0.721</td>\n",
       "      <td>0</td>\n",
       "      <td>-6.839</td>\n",
       "      <td>1</td>\n",
       "      <td>0.0321</td>\n",
       "      <td>0</td>\n",
       "      <td>0.1890</td>\n",
       "      <td>0.557</td>\n",
       "      <td>95.263</td>\n",
       "      <td>369600</td>\n",
       "      <td>4</td>\n",
       "    </tr>\n",
       "    <tr>\n",
       "      <th>1</th>\n",
       "      <td>Smells Like Teen Spirit</td>\n",
       "      <td>Nirvana</td>\n",
       "      <td>3oTlkzk1OtrhH8wBAduVEi</td>\n",
       "      <td>https://open.spotify.com/track/3oTlkzk1OtrhH8w...</td>\n",
       "      <td>0.485</td>\n",
       "      <td>0.863</td>\n",
       "      <td>1</td>\n",
       "      <td>-9.027</td>\n",
       "      <td>1</td>\n",
       "      <td>0.0495</td>\n",
       "      <td>0.0162</td>\n",
       "      <td>0.1380</td>\n",
       "      <td>0.767</td>\n",
       "      <td>116.835</td>\n",
       "      <td>300977</td>\n",
       "      <td>4</td>\n",
       "    </tr>\n",
       "    <tr>\n",
       "      <th>2</th>\n",
       "      <td>A Day In The Life - Remastered</td>\n",
       "      <td>The Beatles</td>\n",
       "      <td>3ZFBeIyP41HhnALjxWy1pR</td>\n",
       "      <td>https://open.spotify.com/track/3ZFBeIyP41HhnAL...</td>\n",
       "      <td>0.364</td>\n",
       "      <td>0.457</td>\n",
       "      <td>4</td>\n",
       "      <td>-14.162</td>\n",
       "      <td>0</td>\n",
       "      <td>0.0675</td>\n",
       "      <td>0.000106</td>\n",
       "      <td>0.9220</td>\n",
       "      <td>0.175</td>\n",
       "      <td>163.219</td>\n",
       "      <td>337413</td>\n",
       "      <td>4</td>\n",
       "    </tr>\n",
       "    <tr>\n",
       "      <th>3</th>\n",
       "      <td>Good Vibrations (Mono)</td>\n",
       "      <td>The Beach Boys</td>\n",
       "      <td>5Qt4Cc66g24QWwGP3YYV9y</td>\n",
       "      <td>https://open.spotify.com/track/5Qt4Cc66g24QWwG...</td>\n",
       "      <td>0.398</td>\n",
       "      <td>0.413</td>\n",
       "      <td>1</td>\n",
       "      <td>-10.934</td>\n",
       "      <td>1</td>\n",
       "      <td>0.0388</td>\n",
       "      <td>0.000025</td>\n",
       "      <td>0.0891</td>\n",
       "      <td>0.331</td>\n",
       "      <td>133.574</td>\n",
       "      <td>219147</td>\n",
       "      <td>4</td>\n",
       "    </tr>\n",
       "    <tr>\n",
       "      <th>4</th>\n",
       "      <td>Johnny B Goode</td>\n",
       "      <td>Chuck Berry</td>\n",
       "      <td>7MH2ZclofPlTrZOkPzZKhK</td>\n",
       "      <td>https://open.spotify.com/track/7MH2ZclofPlTrZO...</td>\n",
       "      <td>0.518</td>\n",
       "      <td>0.756</td>\n",
       "      <td>10</td>\n",
       "      <td>-10.851</td>\n",
       "      <td>1</td>\n",
       "      <td>0.0915</td>\n",
       "      <td>0.000062</td>\n",
       "      <td>0.3170</td>\n",
       "      <td>0.968</td>\n",
       "      <td>166.429</td>\n",
       "      <td>160893</td>\n",
       "      <td>4</td>\n",
       "    </tr>\n",
       "    <tr>\n",
       "      <th>...</th>\n",
       "      <td>...</td>\n",
       "      <td>...</td>\n",
       "      <td>...</td>\n",
       "      <td>...</td>\n",
       "      <td>...</td>\n",
       "      <td>...</td>\n",
       "      <td>...</td>\n",
       "      <td>...</td>\n",
       "      <td>...</td>\n",
       "      <td>...</td>\n",
       "      <td>...</td>\n",
       "      <td>...</td>\n",
       "      <td>...</td>\n",
       "      <td>...</td>\n",
       "      <td>...</td>\n",
       "      <td>...</td>\n",
       "    </tr>\n",
       "    <tr>\n",
       "      <th>3670</th>\n",
       "      <td>I Don't Like</td>\n",
       "      <td>Chief Keef</td>\n",
       "      <td>1h6kgem1ai8vUgO1rZOwfB</td>\n",
       "      <td>https://open.spotify.com/track/1h6kgem1ai8vUgO...</td>\n",
       "      <td>0.742</td>\n",
       "      <td>0.844</td>\n",
       "      <td>2</td>\n",
       "      <td>-4.622</td>\n",
       "      <td>1</td>\n",
       "      <td>0.0479</td>\n",
       "      <td>0</td>\n",
       "      <td>0.0659</td>\n",
       "      <td>0.416</td>\n",
       "      <td>131.986</td>\n",
       "      <td>293840</td>\n",
       "      <td>4</td>\n",
       "    </tr>\n",
       "    <tr>\n",
       "      <th>3671</th>\n",
       "      <td>Happy - From \"Despicable Me 2\"</td>\n",
       "      <td>Pharrell Williams</td>\n",
       "      <td>5b88tNINg4Q4nrRbrCXUmg</td>\n",
       "      <td>https://open.spotify.com/track/5b88tNINg4Q4nrR...</td>\n",
       "      <td>0.647</td>\n",
       "      <td>0.822</td>\n",
       "      <td>5</td>\n",
       "      <td>-4.662</td>\n",
       "      <td>0</td>\n",
       "      <td>0.1830</td>\n",
       "      <td>0</td>\n",
       "      <td>0.0908</td>\n",
       "      <td>0.962</td>\n",
       "      <td>160.019</td>\n",
       "      <td>232720</td>\n",
       "      <td>4</td>\n",
       "    </tr>\n",
       "    <tr>\n",
       "      <th>3672</th>\n",
       "      <td>Express Yourself - Remastered Version</td>\n",
       "      <td>Charles Wright &amp; The Watts 103rd Street Rhythm...</td>\n",
       "      <td>6gQZKkphKIMxZgca5r7ImA</td>\n",
       "      <td>https://open.spotify.com/track/6gQZKkphKIMxZgc...</td>\n",
       "      <td>0.461</td>\n",
       "      <td>0.818</td>\n",
       "      <td>8</td>\n",
       "      <td>-8.482</td>\n",
       "      <td>1</td>\n",
       "      <td>0.1250</td>\n",
       "      <td>0</td>\n",
       "      <td>0.2660</td>\n",
       "      <td>0.721</td>\n",
       "      <td>92.305</td>\n",
       "      <td>229653</td>\n",
       "      <td>4</td>\n",
       "    </tr>\n",
       "    <tr>\n",
       "      <th>3673</th>\n",
       "      <td>Call Me The Breeze</td>\n",
       "      <td>J.J. Cale</td>\n",
       "      <td>0D4JiHE8NkSQa5ZdZkYYLw</td>\n",
       "      <td>https://open.spotify.com/track/0D4JiHE8NkSQa5Z...</td>\n",
       "      <td>0.815</td>\n",
       "      <td>0.415</td>\n",
       "      <td>11</td>\n",
       "      <td>-15.573</td>\n",
       "      <td>1</td>\n",
       "      <td>0.0384</td>\n",
       "      <td>0.012</td>\n",
       "      <td>0.0943</td>\n",
       "      <td>0.817</td>\n",
       "      <td>91.539</td>\n",
       "      <td>157617</td>\n",
       "      <td>4</td>\n",
       "    </tr>\n",
       "    <tr>\n",
       "      <th>3674</th>\n",
       "      <td>People Who Died</td>\n",
       "      <td>The Jim Carroll Band</td>\n",
       "      <td>6taFIgW5YE94x1icBh5vTg</td>\n",
       "      <td>https://open.spotify.com/track/6taFIgW5YE94x1i...</td>\n",
       "      <td>0.315</td>\n",
       "      <td>0.635</td>\n",
       "      <td>5</td>\n",
       "      <td>-11.883</td>\n",
       "      <td>0</td>\n",
       "      <td>0.0681</td>\n",
       "      <td>0.000244</td>\n",
       "      <td>0.1280</td>\n",
       "      <td>0.933</td>\n",
       "      <td>190.508</td>\n",
       "      <td>298613</td>\n",
       "      <td>4</td>\n",
       "    </tr>\n",
       "  </tbody>\n",
       "</table>\n",
       "<p>3675 rows × 16 columns</p>\n",
       "</div>"
      ],
      "text/plain": [
       "                                       Song  \\\n",
       "0                      Like a Rolling Stone   \n",
       "1                   Smells Like Teen Spirit   \n",
       "2            A Day In The Life - Remastered   \n",
       "3                    Good Vibrations (Mono)   \n",
       "4                            Johnny B Goode   \n",
       "...                                     ...   \n",
       "3670                           I Don't Like   \n",
       "3671         Happy - From \"Despicable Me 2\"   \n",
       "3672  Express Yourself - Remastered Version   \n",
       "3673                     Call Me The Breeze   \n",
       "3674                        People Who Died   \n",
       "\n",
       "                                                 Artist  \\\n",
       "0                                             Bob Dylan   \n",
       "1                                               Nirvana   \n",
       "2                                           The Beatles   \n",
       "3                                        The Beach Boys   \n",
       "4                                           Chuck Berry   \n",
       "...                                                 ...   \n",
       "3670                                         Chief Keef   \n",
       "3671                                  Pharrell Williams   \n",
       "3672  Charles Wright & The Watts 103rd Street Rhythm...   \n",
       "3673                                          J.J. Cale   \n",
       "3674                               The Jim Carroll Band   \n",
       "\n",
       "                          ID  \\\n",
       "0     3AhXZa8sUQht0UEdBJgpGc   \n",
       "1     3oTlkzk1OtrhH8wBAduVEi   \n",
       "2     3ZFBeIyP41HhnALjxWy1pR   \n",
       "3     5Qt4Cc66g24QWwGP3YYV9y   \n",
       "4     7MH2ZclofPlTrZOkPzZKhK   \n",
       "...                      ...   \n",
       "3670  1h6kgem1ai8vUgO1rZOwfB   \n",
       "3671  5b88tNINg4Q4nrRbrCXUmg   \n",
       "3672  6gQZKkphKIMxZgca5r7ImA   \n",
       "3673  0D4JiHE8NkSQa5ZdZkYYLw   \n",
       "3674  6taFIgW5YE94x1icBh5vTg   \n",
       "\n",
       "                                                   Link  Danceability  Energy  \\\n",
       "0     https://open.spotify.com/track/3AhXZa8sUQht0UE...         0.482   0.721   \n",
       "1     https://open.spotify.com/track/3oTlkzk1OtrhH8w...         0.485   0.863   \n",
       "2     https://open.spotify.com/track/3ZFBeIyP41HhnAL...         0.364   0.457   \n",
       "3     https://open.spotify.com/track/5Qt4Cc66g24QWwG...         0.398   0.413   \n",
       "4     https://open.spotify.com/track/7MH2ZclofPlTrZO...         0.518   0.756   \n",
       "...                                                 ...           ...     ...   \n",
       "3670  https://open.spotify.com/track/1h6kgem1ai8vUgO...         0.742   0.844   \n",
       "3671  https://open.spotify.com/track/5b88tNINg4Q4nrR...         0.647   0.822   \n",
       "3672  https://open.spotify.com/track/6gQZKkphKIMxZgc...         0.461   0.818   \n",
       "3673  https://open.spotify.com/track/0D4JiHE8NkSQa5Z...         0.815   0.415   \n",
       "3674  https://open.spotify.com/track/6taFIgW5YE94x1i...         0.315   0.635   \n",
       "\n",
       "     Key  Loudness Mode  Speechiness Instrumentalness  Liveness  Valence  \\\n",
       "0      0    -6.839    1       0.0321                0    0.1890    0.557   \n",
       "1      1    -9.027    1       0.0495           0.0162    0.1380    0.767   \n",
       "2      4   -14.162    0       0.0675         0.000106    0.9220    0.175   \n",
       "3      1   -10.934    1       0.0388         0.000025    0.0891    0.331   \n",
       "4     10   -10.851    1       0.0915         0.000062    0.3170    0.968   \n",
       "...   ..       ...  ...          ...              ...       ...      ...   \n",
       "3670   2    -4.622    1       0.0479                0    0.0659    0.416   \n",
       "3671   5    -4.662    0       0.1830                0    0.0908    0.962   \n",
       "3672   8    -8.482    1       0.1250                0    0.2660    0.721   \n",
       "3673  11   -15.573    1       0.0384            0.012    0.0943    0.817   \n",
       "3674   5   -11.883    0       0.0681         0.000244    0.1280    0.933   \n",
       "\n",
       "        Tempo Duration Time Signature  \n",
       "0      95.263   369600              4  \n",
       "1     116.835   300977              4  \n",
       "2     163.219   337413              4  \n",
       "3     133.574   219147              4  \n",
       "4     166.429   160893              4  \n",
       "...       ...      ...            ...  \n",
       "3670  131.986   293840              4  \n",
       "3671  160.019   232720              4  \n",
       "3672   92.305   229653              4  \n",
       "3673   91.539   157617              4  \n",
       "3674  190.508   298613              4  \n",
       "\n",
       "[3675 rows x 16 columns]"
      ]
     },
     "execution_count": 26,
     "metadata": {},
     "output_type": "execute_result"
    }
   ],
   "source": [
    "not_hot = pd.concat([not_hot_0, not_hot_1, not_hot_2, not_hot_3, not_hot_4, not_hot_5, not_hot_6, not_hot_7, not_hot_8, not_hot_9]).reset_index(drop=True)\n",
    "not_hot"
   ]
  },
  {
   "cell_type": "code",
   "execution_count": 27,
   "id": "3b0f045f-8555-45a8-87f3-26da3c21aeea",
   "metadata": {},
   "outputs": [
    {
     "data": {
      "text/plain": [
       "3675"
      ]
     },
     "execution_count": 27,
     "metadata": {},
     "output_type": "execute_result"
    }
   ],
   "source": [
    "not_hot[\"ID\"].nunique()"
   ]
  },
  {
   "cell_type": "code",
   "execution_count": 28,
   "id": "55b75144-d3f8-42d1-a892-6341c49f214d",
   "metadata": {},
   "outputs": [],
   "source": [
    "not_hot.to_csv(\"Not_Hot.csv\")"
   ]
  },
  {
   "cell_type": "markdown",
   "id": "8cc4c741-71e7-4daa-9cbb-01e75d4e397c",
   "metadata": {
    "tags": []
   },
   "source": [
    "## Hot 100 Dataset"
   ]
  },
  {
   "cell_type": "code",
   "execution_count": 30,
   "id": "44cf85a1-7902-47d1-988c-c1c93eca45d5",
   "metadata": {},
   "outputs": [],
   "source": [
    "hot_100 = pd.read_csv(\"../Data/Raw/Hot_100.csv\", index_col = 0)"
   ]
  },
  {
   "cell_type": "markdown",
   "id": "f76af6a8-6412-4a08-932b-d69439d8a1bd",
   "metadata": {
    "tags": []
   },
   "source": [
    "### Cleaning\n",
    "\n",
    "SpotiPy doesn't like colabs, so we are getting only the main artist and also getting rid of \"'\" as it doesn't like them either."
   ]
  },
  {
   "cell_type": "code",
   "execution_count": 37,
   "id": "766e0a97-ab8d-449f-bcb5-4fa4339e866d",
   "metadata": {},
   "outputs": [],
   "source": [
    "hot_100[\"Artists\"] = [artist[0] for artist in [artist.split(\"Featuring\") for artist in hot_100[\"Artists\"]]]\n",
    "hot_100[\"Artists\"] = [artist[0] for artist in [artist.split(\",\") for artist in hot_100[\"Artists\"]]]\n",
    "hot_100[\"Artists\"] = [artist[0] for artist in [artist.split(\"&\") for artist in hot_100[\"Artists\"]]]\n",
    "hot_100[\"Artists\"] = [artist[0] for artist in [artist.split(\"With\") for artist in hot_100[\"Artists\"]]]\n",
    "hot_100[\"Songs\"] = [song.replace(\"'\",\"\") for song in hot_100[\"Songs\"]]"
   ]
  },
  {
   "cell_type": "markdown",
   "id": "bd31858d-c571-4a7b-bf53-a98f38035917",
   "metadata": {},
   "source": [
    "### Slicing\n",
    "\n",
    "We divide the Dataframe so we don't get banned."
   ]
  },
  {
   "cell_type": "code",
   "execution_count": 38,
   "id": "d115a8dd-8b8e-4750-af88-a18a78f48a00",
   "metadata": {},
   "outputs": [],
   "source": [
    "def slice_in_4(df):\n",
    "    rows = df.shape[0]\n",
    "    df1 = df.iloc[:int((rows/4))]\n",
    "    df2 = df.iloc[int(rows/4):int((rows/2))]\n",
    "    df3 = df.iloc[int(rows/2):int(((rows/4)*3))]\n",
    "    df4 = df.iloc[int(((rows/4)*3)):]\n",
    "    return df1, df2, df3, df4"
   ]
  },
  {
   "cell_type": "markdown",
   "id": "4d59ce00-c7f6-4477-ac1d-9097083cea72",
   "metadata": {
    "tags": []
   },
   "source": [
    "hot_100_0, hot_100_1, hot_100_2, hot_100_3 = slice_in_4(hot_100)"
   ]
  },
  {
   "cell_type": "markdown",
   "id": "45939c11-ec2f-4b6a-906e-ab99fafdbe0d",
   "metadata": {},
   "source": [
    "### Function\n",
    "\n",
    "This asks for data using the song and artist combo to be accurate."
   ]
  },
  {
   "cell_type": "code",
   "execution_count": 39,
   "id": "4046ff18-a781-42ea-b50a-0237cb4fc22e",
   "metadata": {},
   "outputs": [],
   "source": [
    "def get_audio_features(df):\n",
    "    \n",
    "    playlist_columns = [\"Song\", \"Artist\", \"ID\", \"Link\", \"danceability\", \"energy\", \"key\", \"loudness\", \"mode\", \"speechiness\", \"instrumentalness\", \"liveness\", \"valence\", \"tempo\", \"duration_ms\", \"time_signature\"]\n",
    "    playlist_df = pd.DataFrame(columns = playlist_columns)\n",
    "    songs = df[\"Song\"].tolist()\n",
    "    artists = df[\"Artist\"].tolist()\n",
    "\n",
    "    for song, artist in zip(songs, artists):\n",
    "        \n",
    "        print(\"Getting info for song\",song,\"by\",artist)\n",
    "        track = sp.search(q=\"artist:\" + artist + \" track:\" + song, type=\"track\")\n",
    "        playlist_features = {}\n",
    "        playlist_features[\"Song\"] = track[\"tracks\"][\"items\"][0][\"name\"]\n",
    "        playlist_features[\"Artist\"] = track[\"tracks\"][\"items\"][0][\"artists\"][0][\"name\"]\n",
    "        playlist_features[\"ID\"] = track[\"tracks\"][\"items\"][0][\"id\"]\n",
    "        playlist_features[\"Link\"] = track[\"tracks\"][\"items\"][0][\"external_urls\"][\"spotify\"]\n",
    "        \n",
    "        audio_features = sp.audio_features(playlist_features[\"ID\"])[0]\n",
    "        for feature in playlist_columns[4:]:\n",
    "                playlist_features[feature] = audio_features[feature]\n",
    "                    \n",
    "        track_df = pd.DataFrame(playlist_features, index = [0])\n",
    "        playlist_df = pd.concat([playlist_df, track_df], ignore_index = True)\n",
    "        \n",
    "        nap = randint(2,3)    \n",
    "        print(\"Sleeping for\",nap,\"seconds\")\n",
    "        sleep(nap)\n",
    "            \n",
    "    playlist_df.columns = [\"Song\", \"Artist\", \"ID\", \"Link\", \"Danceability\", \"Energy\", \"Key\", \"Loudness\", \"Mode\", \"Speechiness\", \"Instrumentalness\", \"Liveness\", \"Valence\", \"Tempo\", \"Duration\", \"Time Signature\"]\n",
    "    \n",
    "    return playlist_df"
   ]
  },
  {
   "cell_type": "code",
   "execution_count": 45,
   "id": "06076bb1-e508-4635-9b17-fe525f275028",
   "metadata": {
    "jupyter": {
     "outputs_hidden": true
    },
    "tags": []
   },
   "outputs": [
    {
     "name": "stdout",
     "output_type": "stream",
     "text": [
      "Getting info for song BREAK MY SOUL by Beyoncé\n",
      "Sleeping for 2 seconds\n",
      "Getting info for song As It Was by Harry Styles\n",
      "Sleeping for 2 seconds\n",
      "Getting info for song About Damn Time by Lizzo\n",
      "Sleeping for 3 seconds\n",
      "Getting info for song Running Up That Hill (A Deal With God) - 2018 Remaster by Kate Bush\n",
      "Sleeping for 2 seconds\n",
      "Getting info for song STAYING ALIVE (feat. Drake & Lil Baby) by DJ Khaled\n",
      "Sleeping for 3 seconds\n",
      "Getting info for song Bad Habit by Steve Lacy\n",
      "Sleeping for 2 seconds\n",
      "Getting info for song WAIT FOR U (feat. Drake & Tems) by Future\n",
      "Sleeping for 2 seconds\n",
      "Getting info for song Sunroof by Nicky Youre\n",
      "Sleeping for 3 seconds\n",
      "Getting info for song First Class by Jack Harlow\n",
      "Sleeping for 2 seconds\n",
      "Getting info for song Bad Decisions (with BTS & Snoop Dogg) by benny blanco\n",
      "Sleeping for 3 seconds\n",
      "Getting info for song Me Porto Bonito by Bad Bunny\n",
      "Sleeping for 2 seconds\n",
      "Getting info for song Late Night Talking by Harry Styles\n",
      "Sleeping for 2 seconds\n",
      "Getting info for song I Like You (A Happier Song) (with Doja Cat) by Post Malone\n",
      "Sleeping for 2 seconds\n",
      "Getting info for song Heat Waves by Glass Animals\n",
      "Sleeping for 2 seconds\n",
      "Getting info for song The Kind of Love We Make by Luke Combs\n",
      "Sleeping for 2 seconds\n",
      "Getting info for song Tití Me Preguntó by Bad Bunny\n",
      "Sleeping for 3 seconds\n",
      "Getting info for song Wasted On You by Morgan Wallen\n",
      "Sleeping for 3 seconds\n",
      "Getting info for song You Proof by Morgan Wallen\n",
      "Sleeping for 2 seconds\n",
      "Getting info for song I Ain't Worried by OneRepublic\n",
      "Sleeping for 2 seconds\n",
      "Getting info for song STAY (with Justin Bieber) by The Kid LAROI\n",
      "Sleeping for 2 seconds\n",
      "Getting info for song Big Energy by Latto\n",
      "Sleeping for 2 seconds\n",
      "Getting info for song She Had Me At Heads Carolina by Cole Swindell\n",
      "Sleeping for 3 seconds\n",
      "Getting info for song Jimmy Cooks (feat. 21 Savage) by Drake\n",
      "Sleeping for 3 seconds\n",
      "Getting info for song Glimpse of Us by Joji\n",
      "Sleeping for 2 seconds\n",
      "Getting info for song Ghost by Justin Bieber\n",
      "Sleeping for 2 seconds\n",
      "Getting info for song Moscow Mule by Bad Bunny\n",
      "Sleeping for 2 seconds\n",
      "Getting info for song Numb Little Bug by Em Beihold\n",
      "Sleeping for 3 seconds\n",
      "Getting info for song Like I Love Country Music by Kane Brown\n",
      "Sleeping for 3 seconds\n",
      "Getting info for song Shivers by Ed Sheeran\n",
      "Sleeping for 3 seconds\n",
      "Getting info for song 5 Foot 9 by Tyler Hubbard\n",
      "Sleeping for 2 seconds\n",
      "Getting info for song Vegas (From the Original Motion Picture Soundtrack ELVIS) by Doja Cat\n",
      "Sleeping for 3 seconds\n",
      "Getting info for song In A Minute by Lil Baby\n",
      "Sleeping for 3 seconds\n",
      "Getting info for song Get Into It (Yuh) by Doja Cat\n",
      "Sleeping for 3 seconds\n",
      "Getting info for song Cold Heart - PNAU Remix by Elton John\n",
      "Sleeping for 2 seconds\n",
      "Getting info for song Rock and A Hard Place by Bailey Zimmerman\n",
      "Sleeping for 2 seconds\n",
      "Getting info for song Sticky by Drake\n",
      "Sleeping for 2 seconds\n",
      "Getting info for song Umm Hmm by YoungBoy Never Broke Again\n",
      "Sleeping for 2 seconds\n",
      "Getting info for song Fall In Love by Bailey Zimmerman\n",
      "Sleeping for 2 seconds\n",
      "Getting info for song Last Night Lonely by Jon Pardi\n",
      "Sleeping for 2 seconds\n",
      "Getting info for song Efecto by Bad Bunny\n",
      "Sleeping for 3 seconds\n",
      "Getting info for song PROVENZA by KAROL G\n",
      "Sleeping for 2 seconds\n",
      "Getting info for song Something in the Orange by Zach Bryan\n",
      "Sleeping for 2 seconds\n",
      "Getting info for song ALIEN SUPERSTAR by Beyoncé\n",
      "Sleeping for 3 seconds\n",
      "Getting info for song Super Gremlin by Kodak Black\n",
      "Sleeping for 3 seconds\n",
      "Getting info for song Betty (Get Money) by Yung Gravy\n",
      "Sleeping for 2 seconds\n",
      "Getting info for song I Know by YoungBoy Never Broke Again\n",
      "Sleeping for 3 seconds\n",
      "Getting info for song Home Ain't Home (feat. Rod Wave) by YoungBoy Never Broke Again\n",
      "Sleeping for 2 seconds\n",
      "Getting info for song Left and Right (Feat. Jung Kook of BTS) by Charlie Puth\n",
      "Sleeping for 3 seconds\n",
      "Getting info for song F.N.F. (Let's Go) by Hitkidd\n",
      "Sleeping for 3 seconds\n",
      "Getting info for song CUFF IT by Beyoncé\n",
      "Sleeping for 2 seconds\n",
      "Getting info for song Son Of A Sinner by Jelly Roll\n",
      "Sleeping for 2 seconds\n",
      "Getting info for song Damn Strait by Scotty McCreery\n",
      "Sleeping for 2 seconds\n",
      "Getting info for song Hot Shit (feat. Ye & Lil Durk) by Cardi B\n",
      "Sleeping for 2 seconds\n",
      "Getting info for song Take My Name by Parmalee\n",
      "Sleeping for 3 seconds\n",
      "Getting info for song Party by Bad Bunny\n",
      "Sleeping for 2 seconds\n",
      "Getting info for song Numb by Marshmello\n",
      "Sleeping for 3 seconds\n",
      "Getting info for song Sleazy Flow (with Lil Baby) - Remix by SleazyWorld Go\n",
      "Sleeping for 2 seconds\n",
      "Getting info for song Ojitos Lindos by Bad Bunny\n",
      "Sleeping for 2 seconds\n",
      "Getting info for song So Good by Halsey\n",
      "Sleeping for 2 seconds\n",
      "Getting info for song Después de la Playa by Bad Bunny\n",
      "Sleeping for 3 seconds\n",
      "Getting info for song New Truck by Dylan Scott\n",
      "Sleeping for 3 seconds\n",
      "Getting info for song Vette Motors by YoungBoy Never Broke Again\n",
      "Sleeping for 3 seconds\n",
      "Getting info for song Fuck Da Industry by YoungBoy Never Broke Again\n",
      "Sleeping for 2 seconds\n",
      "Getting info for song Free Mind by Tems\n",
      "Sleeping for 3 seconds\n",
      "Getting info for song Whiskey On You by Nate Smith\n",
      "Sleeping for 3 seconds\n",
      "Getting info for song Victoria’s Secret by Jax\n",
      "Sleeping for 2 seconds\n",
      "Getting info for song CHURCH GIRL by Beyoncé\n",
      "Sleeping for 3 seconds\n",
      "Getting info for song Free Dem 5's by YoungBoy Never Broke Again\n",
      "Sleeping for 3 seconds\n",
      "Getting info for song Unstoppable by Sia\n",
      "Sleeping for 3 seconds\n",
      "Getting info for song Bones by Imagine Dragons\n",
      "Sleeping for 2 seconds\n",
      "Getting info for song Tarot by Bad Bunny\n",
      "Sleeping for 3 seconds\n",
      "Getting info for song Wishful Drinking (with Sam Hunt) by Ingrid Andress\n",
      "Sleeping for 3 seconds\n",
      "Getting info for song Last Last by Burna Boy\n",
      "Sleeping for 2 seconds\n",
      "Getting info for song Dah Dah DahDah by Nardo Wick\n",
      "Sleeping for 2 seconds\n",
      "Getting info for song Lost Soul Survivor by YoungBoy Never Broke Again\n",
      "Sleeping for 2 seconds\n",
      "Getting info for song With A Woman You Love by Justin Moore\n",
      "Sleeping for 2 seconds\n",
      "Getting info for song Cooped Up (with Roddy Ricch) by Post Malone\n",
      "Sleeping for 3 seconds\n",
      "Getting info for song Truth About You by Mitchell Tenpenny\n",
      "Sleeping for 2 seconds\n",
      "Getting info for song ENERGY (feat. Beam) by Beyoncé\n",
      "Sleeping for 2 seconds\n",
      "Getting info for song At the End of a Bar by Chris Young\n",
      "Sleeping for 3 seconds\n",
      "Getting info for song Pick Me Up by Gabby Barrett\n",
      "Sleeping for 3 seconds\n",
      "Getting info for song She Likes It (feat. Jake Scott) by Russell Dickerson\n",
      "Sleeping for 3 seconds\n",
      "Getting info for song Hold Your Own by YoungBoy Never Broke Again\n",
      "Sleeping for 2 seconds\n",
      "Getting info for song Ghost Story by Carrie Underwood\n",
      "Sleeping for 3 seconds\n",
      "Getting info for song PUFFIN ON ZOOTIEZ by Future\n",
      "Sleeping for 3 seconds\n",
      "Getting info for song Top Sound by YoungBoy Never Broke Again\n",
      "Sleeping for 2 seconds\n",
      "Getting info for song Never Sleep (with Lil Baby feat. Travis Scott) by NAV\n",
      "Sleeping for 3 seconds\n",
      "Getting info for song Kamikaze by YoungBoy Never Broke Again\n",
      "Sleeping for 3 seconds\n",
      "Getting info for song HOTEL LOBBY (Unc & Phew) by Quavo\n",
      "Sleeping for 2 seconds\n",
      "Getting info for song My Time by YoungBoy Never Broke Again\n",
      "Sleeping for 3 seconds\n",
      "Getting info for song Thought You Should Know by Morgan Wallen\n",
      "Sleeping for 2 seconds\n",
      "Getting info for song I'M THAT GIRL by Beyoncé\n"
     ]
    },
    {
     "ename": "IndexError",
     "evalue": "list index out of range",
     "output_type": "error",
     "traceback": [
      "\u001b[1;31m---------------------------------------------------------------------------\u001b[0m",
      "\u001b[1;31mIndexError\u001b[0m                                Traceback (most recent call last)",
      "\u001b[1;32m~\\AppData\\Local\\Temp/ipykernel_4676/3997776447.py\u001b[0m in \u001b[0;36m<module>\u001b[1;34m\u001b[0m\n\u001b[1;32m----> 1\u001b[1;33m \u001b[0mhot_100_0_data\u001b[0m \u001b[1;33m=\u001b[0m \u001b[0mget_audio_features\u001b[0m\u001b[1;33m(\u001b[0m\u001b[0mhot_100\u001b[0m\u001b[1;33m)\u001b[0m\u001b[1;33m\u001b[0m\u001b[1;33m\u001b[0m\u001b[0m\n\u001b[0m",
      "\u001b[1;32m~\\AppData\\Local\\Temp/ipykernel_4676/3579289241.py\u001b[0m in \u001b[0;36mget_audio_features\u001b[1;34m(df)\u001b[0m\n\u001b[0;32m     11\u001b[0m         \u001b[0mtrack\u001b[0m \u001b[1;33m=\u001b[0m \u001b[0msp\u001b[0m\u001b[1;33m.\u001b[0m\u001b[0msearch\u001b[0m\u001b[1;33m(\u001b[0m\u001b[0mq\u001b[0m\u001b[1;33m=\u001b[0m\u001b[1;34m\"artist:\"\u001b[0m \u001b[1;33m+\u001b[0m \u001b[0martist\u001b[0m \u001b[1;33m+\u001b[0m \u001b[1;34m\" track:\"\u001b[0m \u001b[1;33m+\u001b[0m \u001b[0msong\u001b[0m\u001b[1;33m,\u001b[0m \u001b[0mtype\u001b[0m\u001b[1;33m=\u001b[0m\u001b[1;34m\"track\"\u001b[0m\u001b[1;33m)\u001b[0m\u001b[1;33m\u001b[0m\u001b[1;33m\u001b[0m\u001b[0m\n\u001b[0;32m     12\u001b[0m         \u001b[0mplaylist_features\u001b[0m \u001b[1;33m=\u001b[0m \u001b[1;33m{\u001b[0m\u001b[1;33m}\u001b[0m\u001b[1;33m\u001b[0m\u001b[1;33m\u001b[0m\u001b[0m\n\u001b[1;32m---> 13\u001b[1;33m         \u001b[0mplaylist_features\u001b[0m\u001b[1;33m[\u001b[0m\u001b[1;34m\"Song\"\u001b[0m\u001b[1;33m]\u001b[0m \u001b[1;33m=\u001b[0m \u001b[0mtrack\u001b[0m\u001b[1;33m[\u001b[0m\u001b[1;34m\"tracks\"\u001b[0m\u001b[1;33m]\u001b[0m\u001b[1;33m[\u001b[0m\u001b[1;34m\"items\"\u001b[0m\u001b[1;33m]\u001b[0m\u001b[1;33m[\u001b[0m\u001b[1;36m0\u001b[0m\u001b[1;33m]\u001b[0m\u001b[1;33m[\u001b[0m\u001b[1;34m\"name\"\u001b[0m\u001b[1;33m]\u001b[0m\u001b[1;33m\u001b[0m\u001b[1;33m\u001b[0m\u001b[0m\n\u001b[0m\u001b[0;32m     14\u001b[0m         \u001b[0mplaylist_features\u001b[0m\u001b[1;33m[\u001b[0m\u001b[1;34m\"Artist\"\u001b[0m\u001b[1;33m]\u001b[0m \u001b[1;33m=\u001b[0m \u001b[0mtrack\u001b[0m\u001b[1;33m[\u001b[0m\u001b[1;34m\"tracks\"\u001b[0m\u001b[1;33m]\u001b[0m\u001b[1;33m[\u001b[0m\u001b[1;34m\"items\"\u001b[0m\u001b[1;33m]\u001b[0m\u001b[1;33m[\u001b[0m\u001b[1;36m0\u001b[0m\u001b[1;33m]\u001b[0m\u001b[1;33m[\u001b[0m\u001b[1;34m\"artists\"\u001b[0m\u001b[1;33m]\u001b[0m\u001b[1;33m[\u001b[0m\u001b[1;36m0\u001b[0m\u001b[1;33m]\u001b[0m\u001b[1;33m[\u001b[0m\u001b[1;34m\"name\"\u001b[0m\u001b[1;33m]\u001b[0m\u001b[1;33m\u001b[0m\u001b[1;33m\u001b[0m\u001b[0m\n\u001b[0;32m     15\u001b[0m         \u001b[0mplaylist_features\u001b[0m\u001b[1;33m[\u001b[0m\u001b[1;34m\"ID\"\u001b[0m\u001b[1;33m]\u001b[0m \u001b[1;33m=\u001b[0m \u001b[0mtrack\u001b[0m\u001b[1;33m[\u001b[0m\u001b[1;34m\"tracks\"\u001b[0m\u001b[1;33m]\u001b[0m\u001b[1;33m[\u001b[0m\u001b[1;34m\"items\"\u001b[0m\u001b[1;33m]\u001b[0m\u001b[1;33m[\u001b[0m\u001b[1;36m0\u001b[0m\u001b[1;33m]\u001b[0m\u001b[1;33m[\u001b[0m\u001b[1;34m\"id\"\u001b[0m\u001b[1;33m]\u001b[0m\u001b[1;33m\u001b[0m\u001b[1;33m\u001b[0m\u001b[0m\n",
      "\u001b[1;31mIndexError\u001b[0m: list index out of range"
     ]
    }
   ],
   "source": [
    "hot_100_0_data = get_audio_features(hot_100_0)"
   ]
  },
  {
   "cell_type": "code",
   "execution_count": null,
   "id": "d5e4fe20-1fc2-49da-b963-4eb7b0be849e",
   "metadata": {
    "jupyter": {
     "outputs_hidden": true
    },
    "tags": []
   },
   "outputs": [],
   "source": [
    "hot_100_1_data = get_audio_features(hot_100_1)"
   ]
  },
  {
   "cell_type": "code",
   "execution_count": null,
   "id": "e413149e-2093-4fa1-9eb1-afd7814dec80",
   "metadata": {
    "jupyter": {
     "outputs_hidden": true
    },
    "tags": []
   },
   "outputs": [],
   "source": [
    "hot_100_2_data= get_audio_features(hot_100_2)"
   ]
  },
  {
   "cell_type": "code",
   "execution_count": null,
   "id": "fac5480c-6745-487d-8e2c-2b522bcdecef",
   "metadata": {
    "jupyter": {
     "outputs_hidden": true
    },
    "tags": []
   },
   "outputs": [],
   "source": [
    "hot_100_3_data = get_audio_features(hot_100_3)"
   ]
  },
  {
   "cell_type": "markdown",
   "id": "51e77ff3-f1ad-4f5b-804d-acf482df4a9c",
   "metadata": {},
   "source": [
    "### Concat and save"
   ]
  },
  {
   "cell_type": "code",
   "execution_count": 46,
   "id": "d34b5032-62b4-42fd-8d3f-c94937c587ea",
   "metadata": {},
   "outputs": [
    {
     "ename": "NameError",
     "evalue": "name 'hot_100_0_data' is not defined",
     "output_type": "error",
     "traceback": [
      "\u001b[1;31m---------------------------------------------------------------------------\u001b[0m",
      "\u001b[1;31mNameError\u001b[0m                                 Traceback (most recent call last)",
      "\u001b[1;32m~\\AppData\\Local\\Temp/ipykernel_4676/3742779219.py\u001b[0m in \u001b[0;36m<module>\u001b[1;34m\u001b[0m\n\u001b[0;32m      1\u001b[0m \u001b[1;31m# hot_100_data = pd.concat([hot_100_0_data, hot_100_1_data, hot_100_2_data, hot_100_3_data]).reset_index(drop=True)\u001b[0m\u001b[1;33m\u001b[0m\u001b[1;33m\u001b[0m\u001b[0m\n\u001b[0;32m      2\u001b[0m \u001b[1;31m# hot_100_data\u001b[0m\u001b[1;33m\u001b[0m\u001b[1;33m\u001b[0m\u001b[0m\n\u001b[1;32m----> 3\u001b[1;33m \u001b[0mhot_100_data\u001b[0m \u001b[1;33m=\u001b[0m \u001b[0mhot_100_0_data\u001b[0m\u001b[1;33m\u001b[0m\u001b[1;33m\u001b[0m\u001b[0m\n\u001b[0m",
      "\u001b[1;31mNameError\u001b[0m: name 'hot_100_0_data' is not defined"
     ]
    }
   ],
   "source": [
    "hot_100_data = pd.concat([hot_100_0_data, hot_100_1_data, hot_100_2_data, hot_100_3_data]).reset_index(drop=True)\n",
    "hot_100_data\n"
   ]
  },
  {
   "cell_type": "code",
   "execution_count": null,
   "id": "15997770-4ca0-4661-ae7f-46a7a565264d",
   "metadata": {},
   "outputs": [],
   "source": [
    "hot_100_data.to_csv(\"Hot_100_Data.csv\")"
   ]
  },
  {
   "cell_type": "markdown",
   "id": "9020433a-fe06-4008-9b76-a1c2991c6d6f",
   "metadata": {
    "tags": []
   },
   "source": [
    "# Models"
   ]
  },
  {
   "cell_type": "markdown",
   "id": "0f30813f-c4da-4258-bac1-1805fb604736",
   "metadata": {},
   "source": [
    "## Label row and concat"
   ]
  },
  {
   "cell_type": "code",
   "execution_count": 42,
   "id": "8ef1bccd-e221-4f48-bca4-68070888ec5d",
   "metadata": {},
   "outputs": [
    {
     "data": {
      "text/html": [
       "<div>\n",
       "<style scoped>\n",
       "    .dataframe tbody tr th:only-of-type {\n",
       "        vertical-align: middle;\n",
       "    }\n",
       "\n",
       "    .dataframe tbody tr th {\n",
       "        vertical-align: top;\n",
       "    }\n",
       "\n",
       "    .dataframe thead th {\n",
       "        text-align: right;\n",
       "    }\n",
       "</style>\n",
       "<table border=\"1\" class=\"dataframe\">\n",
       "  <thead>\n",
       "    <tr style=\"text-align: right;\">\n",
       "      <th></th>\n",
       "      <th>Song</th>\n",
       "      <th>Artist</th>\n",
       "      <th>ID</th>\n",
       "      <th>Link</th>\n",
       "      <th>Danceability</th>\n",
       "      <th>Energy</th>\n",
       "      <th>Key</th>\n",
       "      <th>Loudness</th>\n",
       "      <th>Mode</th>\n",
       "      <th>Speechiness</th>\n",
       "      <th>Instrumentalness</th>\n",
       "      <th>Liveness</th>\n",
       "      <th>Valence</th>\n",
       "      <th>Tempo</th>\n",
       "      <th>Duration</th>\n",
       "      <th>Time Signature</th>\n",
       "    </tr>\n",
       "  </thead>\n",
       "  <tbody>\n",
       "    <tr>\n",
       "      <th>0</th>\n",
       "      <td>BREAK MY SOUL</td>\n",
       "      <td>Beyoncé</td>\n",
       "      <td>2KukL7UlQ8TdvpaA7bY3ZJ</td>\n",
       "      <td>https://open.spotify.com/track/2KukL7UlQ8Tdvpa...</td>\n",
       "      <td>0.687</td>\n",
       "      <td>0.887</td>\n",
       "      <td>1</td>\n",
       "      <td>-5.040</td>\n",
       "      <td>0</td>\n",
       "      <td>0.0826</td>\n",
       "      <td>0.000002</td>\n",
       "      <td>0.2700</td>\n",
       "      <td>0.853</td>\n",
       "      <td>114.941</td>\n",
       "      <td>278282</td>\n",
       "      <td>4</td>\n",
       "    </tr>\n",
       "    <tr>\n",
       "      <th>1</th>\n",
       "      <td>As It Was</td>\n",
       "      <td>Harry Styles</td>\n",
       "      <td>4LRPiXqCikLlN15c3yImP7</td>\n",
       "      <td>https://open.spotify.com/track/4LRPiXqCikLlN15...</td>\n",
       "      <td>0.520</td>\n",
       "      <td>0.731</td>\n",
       "      <td>6</td>\n",
       "      <td>-5.338</td>\n",
       "      <td>0</td>\n",
       "      <td>0.0557</td>\n",
       "      <td>0.001010</td>\n",
       "      <td>0.3110</td>\n",
       "      <td>0.662</td>\n",
       "      <td>173.930</td>\n",
       "      <td>167303</td>\n",
       "      <td>4</td>\n",
       "    </tr>\n",
       "    <tr>\n",
       "      <th>2</th>\n",
       "      <td>About Damn Time</td>\n",
       "      <td>Lizzo</td>\n",
       "      <td>1PckUlxKqWQs3RlWXVBLw3</td>\n",
       "      <td>https://open.spotify.com/track/1PckUlxKqWQs3Rl...</td>\n",
       "      <td>0.836</td>\n",
       "      <td>0.743</td>\n",
       "      <td>10</td>\n",
       "      <td>-6.305</td>\n",
       "      <td>0</td>\n",
       "      <td>0.0656</td>\n",
       "      <td>0.000000</td>\n",
       "      <td>0.3350</td>\n",
       "      <td>0.722</td>\n",
       "      <td>108.966</td>\n",
       "      <td>191822</td>\n",
       "      <td>4</td>\n",
       "    </tr>\n",
       "    <tr>\n",
       "      <th>3</th>\n",
       "      <td>Running Up That Hill (A Deal With God) - 2018 ...</td>\n",
       "      <td>Kate Bush</td>\n",
       "      <td>29d0nY7TzCoi22XBqDQkiP</td>\n",
       "      <td>https://open.spotify.com/track/29d0nY7TzCoi22X...</td>\n",
       "      <td>0.625</td>\n",
       "      <td>0.533</td>\n",
       "      <td>10</td>\n",
       "      <td>-11.903</td>\n",
       "      <td>0</td>\n",
       "      <td>0.0596</td>\n",
       "      <td>0.002660</td>\n",
       "      <td>0.0546</td>\n",
       "      <td>0.139</td>\n",
       "      <td>108.296</td>\n",
       "      <td>300840</td>\n",
       "      <td>4</td>\n",
       "    </tr>\n",
       "    <tr>\n",
       "      <th>4</th>\n",
       "      <td>STAYING ALIVE (feat. Drake &amp; Lil Baby)</td>\n",
       "      <td>DJ Khaled</td>\n",
       "      <td>0g2Bbgy7P41pFjMWJuzsf4</td>\n",
       "      <td>https://open.spotify.com/track/0g2Bbgy7P41pFjM...</td>\n",
       "      <td>0.718</td>\n",
       "      <td>0.461</td>\n",
       "      <td>4</td>\n",
       "      <td>-7.676</td>\n",
       "      <td>0</td>\n",
       "      <td>0.0797</td>\n",
       "      <td>0.000000</td>\n",
       "      <td>0.2830</td>\n",
       "      <td>0.181</td>\n",
       "      <td>129.953</td>\n",
       "      <td>178176</td>\n",
       "      <td>4</td>\n",
       "    </tr>\n",
       "  </tbody>\n",
       "</table>\n",
       "</div>"
      ],
      "text/plain": [
       "                                                Song        Artist  \\\n",
       "0                                      BREAK MY SOUL       Beyoncé   \n",
       "1                                          As It Was  Harry Styles   \n",
       "2                                    About Damn Time         Lizzo   \n",
       "3  Running Up That Hill (A Deal With God) - 2018 ...     Kate Bush   \n",
       "4             STAYING ALIVE (feat. Drake & Lil Baby)     DJ Khaled   \n",
       "\n",
       "                       ID                                               Link  \\\n",
       "0  2KukL7UlQ8TdvpaA7bY3ZJ  https://open.spotify.com/track/2KukL7UlQ8Tdvpa...   \n",
       "1  4LRPiXqCikLlN15c3yImP7  https://open.spotify.com/track/4LRPiXqCikLlN15...   \n",
       "2  1PckUlxKqWQs3RlWXVBLw3  https://open.spotify.com/track/1PckUlxKqWQs3Rl...   \n",
       "3  29d0nY7TzCoi22XBqDQkiP  https://open.spotify.com/track/29d0nY7TzCoi22X...   \n",
       "4  0g2Bbgy7P41pFjMWJuzsf4  https://open.spotify.com/track/0g2Bbgy7P41pFjM...   \n",
       "\n",
       "   Danceability  Energy  Key  Loudness  Mode  Speechiness  Instrumentalness  \\\n",
       "0         0.687   0.887    1    -5.040     0       0.0826          0.000002   \n",
       "1         0.520   0.731    6    -5.338     0       0.0557          0.001010   \n",
       "2         0.836   0.743   10    -6.305     0       0.0656          0.000000   \n",
       "3         0.625   0.533   10   -11.903     0       0.0596          0.002660   \n",
       "4         0.718   0.461    4    -7.676     0       0.0797          0.000000   \n",
       "\n",
       "   Liveness  Valence    Tempo  Duration  Time Signature  \n",
       "0    0.2700    0.853  114.941    278282               4  \n",
       "1    0.3110    0.662  173.930    167303               4  \n",
       "2    0.3350    0.722  108.966    191822               4  \n",
       "3    0.0546    0.139  108.296    300840               4  \n",
       "4    0.2830    0.181  129.953    178176               4  "
      ]
     },
     "execution_count": 42,
     "metadata": {},
     "output_type": "execute_result"
    }
   ],
   "source": [
    "hot_100 = pd.read_csv(\"../Data/Clean/Hot_100_Data.csv\", index_col = 0)\n",
    "hot_100.head()"
   ]
  },
  {
   "cell_type": "code",
   "execution_count": null,
   "id": "339965d3-3bf8-4a10-9857-59c8c61ff886",
   "metadata": {},
   "outputs": [],
   "source": [
    "hot_100[\"Label\"] = \"H\"\n",
    "hot_100.head()"
   ]
  },
  {
   "cell_type": "code",
   "execution_count": null,
   "id": "4928acaa-6904-437f-977c-d4ccdc2f90b4",
   "metadata": {},
   "outputs": [],
   "source": [
    "not_hot = pd.read_csv(\"../Data/Clean/Not_Hot.csv\", index_col = 0)\n",
    "not_hot.head()"
   ]
  },
  {
   "cell_type": "code",
   "execution_count": null,
   "id": "fbdb2ec4-5214-491a-9108-70f1aaae7b69",
   "metadata": {},
   "outputs": [],
   "source": [
    "not_hot[\"Label\"] = \"N\"\n",
    "not_hot.head()"
   ]
  },
  {
   "cell_type": "code",
   "execution_count": null,
   "id": "cc1d8f2e-5d17-4316-971b-458560049ede",
   "metadata": {},
   "outputs": [],
   "source": [
    "songs_db = pd.concat([hot_100, not_hot]).reset_index(drop=True)\n",
    "songs_db"
   ]
  },
  {
   "cell_type": "code",
   "execution_count": null,
   "id": "02d4332b-f227-49cf-81a1-77d16ca3d9a1",
   "metadata": {},
   "outputs": [],
   "source": [
    "songs_db.to_csv(\"../Data/Clean/Songs_DB.csv\")"
   ]
  },
  {
   "cell_type": "markdown",
   "id": "22260fd4-0e51-4d32-aa36-fd5089b15668",
   "metadata": {},
   "source": [
    "## Column dropping\n",
    "\n",
    "We decided to drop columns ```Energy```, ```Mode```, ```Time Signature``` and ```Duration```, due to having correlations to other columns, class imbalance or not being relevant."
   ]
  },
  {
   "cell_type": "code",
   "execution_count": null,
   "id": "4b229703-4579-43a6-a769-b78b98d3f1e0",
   "metadata": {},
   "outputs": [],
   "source": [
    "songs_data = songs_db.drop(columns=[\"Song\", \"Artist\", \"ID\", \"Link\", \"Label\", \"Energy\", \"Mode\", \"Time Signature\", \"Duration\", \"Key\", \"Liveness\"])\n",
    "songs_data.head()"
   ]
  },
  {
   "cell_type": "code",
   "execution_count": null,
   "id": "afc14a20-c386-43f6-9a22-1ab29928f811",
   "metadata": {},
   "outputs": [],
   "source": [
    "songs_data.to_csv(\"../Data/Clean/Songs_Data.csv\")"
   ]
  },
  {
   "cell_type": "markdown",
   "id": "34477d32-ebbc-4a17-8281-4ae9d7cd9cb5",
   "metadata": {},
   "source": [
    "## Transformer"
   ]
  },
  {
   "cell_type": "code",
   "execution_count": null,
   "id": "25299ac3-26bf-448e-83e6-c75c843df1b6",
   "metadata": {},
   "outputs": [],
   "source": [
    "transformer = PowerTransformer()\n",
    "transformer.fit(songs_data)\n",
    "\n",
    "filename = \"../Transformers/Power_Transformer.pkl\"\n",
    "with open(filename, \"wb\") as file:\n",
    "    pickle.dump(transformer, file)\n",
    "\n",
    "songs_data_pt = transformer.transform(songs_data)\n",
    "songs_data_pt = pd.DataFrame(songs_data_pt, columns = songs_data.columns)\n",
    "songs_data_pt.head()"
   ]
  },
  {
   "cell_type": "markdown",
   "id": "9ab108cf-6835-4e1b-9db4-5279dca71e65",
   "metadata": {},
   "source": [
    "## Scaler"
   ]
  },
  {
   "cell_type": "code",
   "execution_count": null,
   "id": "b0fdffe3-7598-4fe2-b896-64e376f8f06b",
   "metadata": {},
   "outputs": [],
   "source": [
    "scaler = StandardScaler()\n",
    "scaler.fit(songs_data_pt.to_numpy())\n",
    "\n",
    "filename = \"../Scalers/Standard_Scaler.pkl\"\n",
    "with open(filename, \"wb\") as file:\n",
    "    pickle.dump(scaler, file)\n",
    "\n",
    "songs_data_pt_ss = scaler.transform(songs_data_pt.to_numpy())\n",
    "songs_data_pt_ss = pd.DataFrame(songs_data_pt_ss, columns = songs_data_pt.columns)\n",
    "songs_data_pt_ss.head()"
   ]
  },
  {
   "cell_type": "markdown",
   "id": "b71a6ca6-8511-47ff-b778-28d5e6cf3944",
   "metadata": {
    "tags": []
   },
   "source": [
    "## K-Means"
   ]
  },
  {
   "cell_type": "code",
   "execution_count": null,
   "id": "d71e748c-a43c-42a5-9466-b918cb4b57a8",
   "metadata": {},
   "outputs": [],
   "source": [
    "K = range(10, 31)\n",
    "inertia = []\n",
    "silhouette = []\n",
    "\n",
    "for k in K:\n",
    "    print(\"Training a K-Means model with {} neighbours\".format(k))\n",
    "    print()\n",
    "    kmeans = KMeans(n_clusters=k, random_state=22)\n",
    "    kmeans.fit(songs_data_pt_ss.to_numpy())\n",
    "    filename = \"../Models/KM_\" + str(k) + \".pkl\"\n",
    "    with open(filename, \"wb\") as file:\n",
    "        pickle.dump(kmeans,file)\n",
    "    inertia.append(kmeans.inertia_)\n",
    "    silhouette.append(silhouette_score(songs_data_pt_ss, kmeans.predict(songs_data_pt_ss.to_numpy())))"
   ]
  },
  {
   "cell_type": "code",
   "execution_count": null,
   "id": "0f2e8f3b-af58-44bc-9605-7144d499076a",
   "metadata": {
    "tags": []
   },
   "outputs": [],
   "source": [
    "fig, ax = plt.subplots(1,2,figsize=(16,8))\n",
    "ax[0].plot(K, inertia, 'bx-')\n",
    "ax[0].set_xlabel('K')\n",
    "ax[0].set_ylabel('Inertia')\n",
    "ax[0].set_xticks(np.arange(min(K), max(K)+1, 1.0))\n",
    "ax[0].set_title('Elbow Method')\n",
    "\n",
    "ax[1].plot(K, silhouette, 'bx-')\n",
    "ax[1].set_xlabel('K')\n",
    "ax[1].set_ylabel('Silhouette')\n",
    "ax[1].set_xticks(np.arange(min(K), max(K)+1, 1.0))\n",
    "ax[1].set_title('Silhouette Method')"
   ]
  },
  {
   "cell_type": "code",
   "execution_count": null,
   "id": "64929e7f-5c55-4463-affb-04333440d1d7",
   "metadata": {
    "tags": []
   },
   "outputs": [],
   "source": [
    "songs_db[\"Cluster\"] = KMeans(n_clusters=28, random_state=22).fit(songs_data_pt_ss).predict(songs_data_pt_ss)\n",
    "display(songs_db[\"Cluster\"][songs_db[\"Label\"] == \"H\"].value_counts())\n",
    "display(songs_db[\"Cluster\"][songs_db[\"Label\"] == \"N\"].value_counts())"
   ]
  },
  {
   "cell_type": "code",
   "execution_count": null,
   "id": "4ddb0c4e",
   "metadata": {},
   "outputs": [],
   "source": [
    "songs_db.head()"
   ]
  },
  {
   "cell_type": "markdown",
   "id": "b8d7a708-fa45-4e8d-a39b-9689e895408a",
   "metadata": {
    "tags": []
   },
   "source": [
    "## DBSCAN"
   ]
  },
  {
   "cell_type": "code",
   "execution_count": null,
   "id": "fff8e157-9664-4855-b7ad-64f64a504a0c",
   "metadata": {},
   "outputs": [],
   "source": [
    "d = distance_matrix(songs_data_pt_ss,songs_data_pt_ss)"
   ]
  },
  {
   "cell_type": "code",
   "execution_count": null,
   "id": "098e7f5b-ceb5-4340-b6d2-ee57b169273c",
   "metadata": {},
   "outputs": [],
   "source": [
    "d2 = np.sort(d)[:,1:]"
   ]
  },
  {
   "cell_type": "code",
   "execution_count": null,
   "id": "e7d1d217-308a-4905-b852-38adbb7f3f46",
   "metadata": {},
   "outputs": [],
   "source": [
    "f = d2[:,2]"
   ]
  },
  {
   "cell_type": "code",
   "execution_count": null,
   "id": "637c26a6-2e25-4d2a-a916-13ae489dd52f",
   "metadata": {
    "tags": []
   },
   "outputs": [],
   "source": [
    "f_final = np.sort(f)[::-1]\n",
    "f1_final = f_final[:500]\n",
    "f2_final = f_final[:200]\n",
    "f3_final = f_final[:50]"
   ]
  },
  {
   "cell_type": "code",
   "execution_count": null,
   "id": "8b29f4d4-9808-46bf-8a6f-8dd10dda2b21",
   "metadata": {},
   "outputs": [],
   "source": [
    "fig, ax = plt.subplots(3,1, figsize=(10,10))\n",
    "\n",
    "ax[0].scatter(range(1,len(f1_final)+1), f1_final)\n",
    "ax[0].set_xlabel(\"Points\")\n",
    "ax[0].set_ylabel(\"Distance\")\n",
    "ax[0].grid(visible=True)\n",
    "\n",
    "ax[1].scatter(range(1,len(f2_final)+1), f2_final)\n",
    "ax[1].set_xlabel(\"Points\")\n",
    "ax[1].set_ylabel(\"Distance\")\n",
    "ax[1].grid(visible=True)\n",
    "\n",
    "ax[2].scatter(range(1,len(f3_final)+1), f3_final)\n",
    "ax[2].set_xlabel(\"Points\")\n",
    "ax[2].set_ylabel(\"Distance\")\n",
    "ax[2].grid(visible=True)"
   ]
  },
  {
   "cell_type": "code",
   "execution_count": null,
   "id": "12700616-695c-46c0-abf7-4106f3a5ac6d",
   "metadata": {},
   "outputs": [],
   "source": [
    "f_final[4]"
   ]
  },
  {
   "cell_type": "code",
   "execution_count": null,
   "id": "b7ca55bb-ccce-4567-a0c1-e91be042b2ea",
   "metadata": {},
   "outputs": [],
   "source": [
    "dbscan = DBSCAN(eps=f_final[4], min_samples=5)\n",
    "yhat = dbscan.fit_predict(songs_data_pt_ss)\n",
    "clusters = np.unique(yhat)\n",
    "np.unique(yhat)"
   ]
  },
  {
   "cell_type": "code",
   "execution_count": null,
   "id": "1d49ae08-b084-425d-964c-389a2fdf6610",
   "metadata": {},
   "outputs": [],
   "source": [
    "for index, cluster in enumerate(list(clusters)):\n",
    "\trow_ix = np.where(yhat == cluster)\n",
    "\tplt.scatter(songs_data.to_numpy()[row_ix, 0], songs_data.to_numpy()[row_ix, 1])\n",
    "    \n",
    "plt.title(\"Clusters detected by DBSCAN, blue dots are considered Noise\")\n",
    "plt.show()"
   ]
  },
  {
   "cell_type": "markdown",
   "id": "6ad4bbc8-482e-4270-9b3f-c238ba937393",
   "metadata": {
    "tags": []
   },
   "source": [
    "## Gaussian Mixtures"
   ]
  },
  {
   "cell_type": "code",
   "execution_count": null,
   "id": "c7ae46b2-3f90-4e2c-a01c-337203929f42",
   "metadata": {
    "jupyter": {
     "outputs_hidden": true
    },
    "tags": []
   },
   "outputs": [],
   "source": [
    "N = range(10, 31)\n",
    "covariance_types = [\"full\", \"tied\", \"diag\", \"spherical\"]\n",
    "silhouette_f = []\n",
    "silhouette_t = []\n",
    "silhouette_d = []\n",
    "silhouette_s = []\n",
    "\n",
    "for covariance in covariance_types:\n",
    "    for n in N:\n",
    "        print(\"Gaussian Mixture with {} components and covariance type = {}\".format(n, covariance))\n",
    "        print()\n",
    "        \n",
    "        gm = GaussianMixture(n_components = n, covariance_type = covariance, random_state=22)\n",
    "        gm.fit(songs_data_pt_ss)\n",
    "        \n",
    "        name = \"\"\n",
    "        \n",
    "        if covariance == \"full\":\n",
    "            name = \"F\"\n",
    "            silhouette_f.append(silhouette_score(songs_data_pt_ss, gm.predict(songs_data_pt_ss)))\n",
    "            \n",
    "        elif covariance == \"tied\":\n",
    "            name = \"T\"\n",
    "            silhouette_t.append(silhouette_score(songs_data_pt_ss, gm.predict(songs_data_pt_ss)))\n",
    "            \n",
    "        elif covariance == \"diag\":\n",
    "            name = \"D\"\n",
    "            silhouette_d.append(silhouette_score(songs_data_pt_ss, gm.predict(songs_data_pt_ss)))\n",
    "            \n",
    "        else:\n",
    "            name = \"S\"\n",
    "            silhouette_s.append(silhouette_score(songs_data_pt_ss, gm.predict(songs_data_pt_ss)))\n",
    "            \n",
    "        filename = \"../Models/GM_\"+str(n)+\"_\"+name+\".pkl\"\n",
    "        with open (filename, \"wb\") as file:\n",
    "            pickle.dump(gm, file)"
   ]
  },
  {
   "cell_type": "code",
   "execution_count": null,
   "id": "2fdbd592-56c5-47c6-b681-e8400d99a052",
   "metadata": {},
   "outputs": [],
   "source": [
    "fig, ax = plt.subplots(2,2,figsize=(16,8))\n",
    "\n",
    "ax[0,0].plot(N, silhouette_f, 'bx-')\n",
    "ax[0,0].set_xlabel('N')\n",
    "ax[0,0].set_ylabel('Silhouette')\n",
    "ax[0,0].set_xticks(np.arange(min(N), max(N)+1, 1.0))\n",
    "ax[0,0].set_title('Silhouette for covariance type = Full')\n",
    "\n",
    "ax[0,1].plot(N, silhouette_t, 'bx-')\n",
    "ax[0,1].set_xlabel('N')\n",
    "ax[0,1].set_ylabel('Silhouette')\n",
    "ax[0,1].set_xticks(np.arange(min(N), max(N)+1, 1.0))\n",
    "ax[0,1].set_title('Silhouette for covariance type = Tied')\n",
    "\n",
    "ax[1,0].plot(N, silhouette_d, 'bx-')\n",
    "ax[1,0].set_xlabel('N')\n",
    "ax[1,0].set_ylabel('Silhouette')\n",
    "ax[1,0].set_xticks(np.arange(min(N), max(N)+1, 1.0))\n",
    "ax[1,0].set_title('Silhouette for covariance type = Diag')\n",
    "\n",
    "ax[1,1].plot(N, silhouette_s, 'bx-')\n",
    "ax[1,1].set_xlabel('N')\n",
    "ax[1,1].set_ylabel('Silhouette')\n",
    "ax[1,1].set_xticks(np.arange(min(N), max(N)+1, 1.0))\n",
    "ax[1,1].set_title('Silhouette for covariance type = Spherical')"
   ]
  },
  {
   "cell_type": "code",
   "execution_count": null,
   "id": "9be0bc04-6460-4bf2-aa1c-46955e9a1b7f",
   "metadata": {},
   "outputs": [],
   "source": [
    "songs_db[\"Cluster\"] = GaussianMixture(n_components = 20, covariance_type=\"spherical\", random_state=22).fit(songs_data_pt_ss).predict(songs_data_pt_ss)\n",
    "display(songs_db[\"Cluster\"][songs_db[\"Label\"] == \"H\"].value_counts())\n",
    "display(songs_db[\"Cluster\"][songs_db[\"Label\"] == \"N\"].value_counts())"
   ]
  },
  {
   "cell_type": "markdown",
   "id": "fc0804c1-fa95-43b8-92c9-dddb301f2e9e",
   "metadata": {
    "tags": []
   },
   "source": [
    "## Agglomerative Clustering"
   ]
  },
  {
   "cell_type": "code",
   "execution_count": null,
   "id": "55459b57-2a58-4ca5-a8b3-71ac5c5bb614",
   "metadata": {},
   "outputs": [],
   "source": [
    "N = range(10, 31)\n",
    "silhouette = []\n",
    "\n",
    "for n in N:\n",
    "    print(\"Agglomerative Clustering with {} components\".format(n))\n",
    "    print()\n",
    "        \n",
    "    aglo = AgglomerativeClustering(distance_threshold=None, n_clusters=n)\n",
    "    silhouette.append(silhouette_score(songs_data_pt_ss, aglo.fit_predict(songs_data_pt_ss)))\n",
    "\n",
    "    filename = \"../Models/AC_\"+str(n)+\".pkl\"\n",
    "    with open (filename, \"wb\") as file:\n",
    "        pickle.dump(aglo, file)"
   ]
  },
  {
   "cell_type": "code",
   "execution_count": null,
   "id": "341276fe-2f16-4c62-8a78-afe7da927a6c",
   "metadata": {},
   "outputs": [],
   "source": [
    "fig, ax = plt.subplots(1,1,figsize=(16,8))\n",
    "\n",
    "ax.plot(N, silhouette, 'bx-')\n",
    "ax.set_xlabel('N')\n",
    "ax.set_ylabel('Silhouette')\n",
    "ax.set_xticks(np.arange(min(N), max(N)+1, 1.0))\n",
    "ax.set_title('Silhouette for Agglomerative Clustering')"
   ]
  },
  {
   "cell_type": "code",
   "execution_count": null,
   "id": "4d673212-33db-4e60-ac96-96d136191834",
   "metadata": {},
   "outputs": [],
   "source": [
    "songs_db[\"Cluster\"] = AgglomerativeClustering(distance_threshold=None, n_clusters=28).fit_predict(songs_data_pt_ss)\n",
    "songs_db[\"Cluster\"].value_counts()"
   ]
  },
  {
   "cell_type": "markdown",
   "id": "064cf53a-e0be-4a9f-8739-07168a332c06",
   "metadata": {},
   "source": [
    "## Choosing cluster method\n",
    "\n",
    "We decided to choose the K-Means with k = 7 due to having the least class imbalance among the 3 models that worked for us, and also a nice amount of clusters."
   ]
  },
  {
   "cell_type": "code",
   "execution_count": null,
   "id": "3e1461be-71bb-4b6e-bd8b-9bba19c01fb0",
   "metadata": {},
   "outputs": [],
   "source": [
    "songs_db.head()"
   ]
  },
  {
   "cell_type": "code",
   "execution_count": null,
   "id": "4924785b-ef5a-4b1f-a1c0-9f982c800542",
   "metadata": {},
   "outputs": [],
   "source": [
    "songs_db.to_csv(\"../Data/Clean/Songs_DB_Clusters.csv\")"
   ]
  },
  {
   "cell_type": "code",
   "execution_count": null,
   "id": "046aece7-f6c0-49ef-9a34-34009564dcc6",
   "metadata": {},
   "outputs": [],
   "source": [
    "songs_db[songs_db[\"Cluster\"] == 1].head(50)"
   ]
  }
 ],
 "metadata": {
  "kernelspec": {
   "display_name": "Python 3 (ipykernel)",
   "language": "python",
   "name": "python3"
  },
  "language_info": {
   "codemirror_mode": {
    "name": "ipython",
    "version": 3
   },
   "file_extension": ".py",
   "mimetype": "text/x-python",
   "name": "python",
   "nbconvert_exporter": "python",
   "pygments_lexer": "ipython3",
   "version": "3.9.7"
  }
 },
 "nbformat": 4,
 "nbformat_minor": 5
}
